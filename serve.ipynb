{
 "cells": [
  {
   "cell_type": "code",
   "execution_count": null,
   "id": "baa931c8",
   "metadata": {},
   "outputs": [],
   "source": [
    "import pythoncom "
   ]
  },
  {
   "cell_type": "markdown",
   "id": "ceba1842",
   "metadata": {},
   "source": [
    "## opcua 支持的数据类型"
   ]
  },
  {
   "cell_type": "code",
   "execution_count": null,
   "id": "76668993",
   "metadata": {},
   "outputs": [],
   "source": [
    "from opcua import ua\n",
    "from opcua.common import node\n",
    "\n",
    "def check_variant_support(value):\n",
    "    \"\"\"检查值是否被OPC UA支持\"\"\"\n",
    "    try:\n",
    "        variant = ua.Variant(value)\n",
    "        print(f\"值: {value}\")\n",
    "        print(f\"类型: {type(value)}\")\n",
    "        print(f\"OPC UA类型: {variant.VariantType.name}\")\n",
    "        print(f\"支持: Yes\")\n",
    "        print(\"-\" * 40)\n",
    "        return True\n",
    "    except Exception as e:\n",
    "        print(f\"值: {value}\")\n",
    "        print(f\"类型: {type(value)}\")\n",
    "        print(f\"支持: No - 错误: {e}\")\n",
    "        print(\"-\" * 40)\n",
    "        return False\n",
    "\n",
    "# 测试各种数据类型\n",
    "test_values = [\n",
    "    42,                    # 整数\n",
    "    3.14,                  # 浮点数\n",
    "    True,                  # 布尔值\n",
    "    \"Hello World\",         # 字符串\n",
    "    [1, 2, 3],             # 整数列表\n",
    "    [1.1, 2.2, 3.3],       # 浮点数列表\n",
    "    b\"binary\",             # 字节串\n",
    "    # ua.DateTime.now(),     # 日期时间\n",
    "    # 以下可能不被直接支持\n",
    "    {\"key\": \"value\"},      # 字典\n",
    "    [{\"key\": \"value\"}],    # 字典列表\n",
    "]\n",
    "\n",
    "for value in test_values:\n",
    "    check_variant_support(value)"
   ]
  },
  {
   "cell_type": "code",
   "execution_count": 7,
   "id": "33578d52",
   "metadata": {},
   "outputs": [
    {
     "data": {
      "text/plain": [
       "'{\"A\":{\"0\":1,\"1\":2},\"B\":{\"0\":3,\"1\":4}}'"
      ]
     },
     "execution_count": 7,
     "metadata": {},
     "output_type": "execute_result"
    }
   ],
   "source": [
    "import pandas as pd\n",
    "import json\n",
    "df = pd.DataFrame({'A': [1, 2], 'B': [3, 4]})\n",
    "a = df.to_json()\n",
    "a"
   ]
  },
  {
   "cell_type": "code",
   "execution_count": null,
   "id": "82c3ad84",
   "metadata": {},
   "outputs": [],
   "source": []
  }
 ],
 "metadata": {
  "kernelspec": {
   "display_name": "base",
   "language": "python",
   "name": "python3"
  },
  "language_info": {
   "codemirror_mode": {
    "name": "ipython",
    "version": 3
   },
   "file_extension": ".py",
   "mimetype": "text/x-python",
   "name": "python",
   "nbconvert_exporter": "python",
   "pygments_lexer": "ipython3",
   "version": "3.10.9"
  }
 },
 "nbformat": 4,
 "nbformat_minor": 5
}
