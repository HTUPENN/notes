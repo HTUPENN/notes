{
 "cells": [
  {
   "cell_type": "markdown",
   "metadata": {},
   "source": [
    "## 1. Process   \n",
    "win 的 spawn模式 只支持参数拷贝，不支持文件对象和线程锁参数传递"
   ]
  },
  {
   "cell_type": "code",
   "execution_count": 3,
   "metadata": {},
   "outputs": [
    {
     "name": "stdout",
     "output_type": "stream",
     "text": [
      "3104 13388\n",
      "16\n"
     ]
    }
   ],
   "source": [
    "# name; getpid()\n",
    "# 在.py中运行\n",
    "import multiprocessing\n",
    "import threading\n",
    "import os\n",
    "import time\n",
    "\n",
    "def fun():\n",
    "    time.sleep(3)\n",
    "\n",
    "def task():\n",
    "    print(os.getpid(), os.getppid()) #获取自己的id， 在子进程获取父进程id\n",
    "    print(multiprocessing.current_process().name) # 输出名字\n",
    "\n",
    "if __name__ == \"__main__\":\n",
    "    print(os.getpid(), os.getppid()) # 主进程id\n",
    "    p1 = multiprocessing.Process(target=task)\n",
    "\n",
    "    for _ in range(10):\n",
    "        t = threading.Thread(target=fun)\n",
    "        t.start()\n",
    "\n",
    "    print(len(threading.enumerate())) # 获取线程个数\n",
    "\n",
    "    p1.name = \"name\" # 设置名字\n",
    "\n",
    "    p1.start()\n",
    "    p1.join()  # 等待子进程结束\n"
   ]
  },
  {
   "cell_type": "markdown",
   "metadata": {},
   "source": [
    "## 2. Process Class  \n",
    "类似于线程类  "
   ]
  },
  {
   "cell_type": "code",
   "execution_count": 1,
   "metadata": {
    "ExecuteTime": {
     "end_time": "2025-09-11T00:57:30.204095Z",
     "start_time": "2025-09-11T00:57:30.125976Z"
    }
   },
   "outputs": [
    {
     "name": "stdout",
     "output_type": "stream",
     "text": [
      "继续执行...\n"
     ]
    }
   ],
   "source": [
    "import multiprocessing\n",
    "\n",
    "class MyProcess(multiprocessing.Process):\n",
    "    def run(self):\n",
    "        print('执行此进程', self._args)\n",
    "\n",
    "if __name__ == '__main__':\n",
    "    p = MyProcess(args=('xxx',))\n",
    "    p.start()\n",
    "    print(\"继续执行...\")"
   ]
  },
  {
   "cell_type": "markdown",
   "metadata": {},
   "source": [
    "## 3. IPC"
   ]
  },
  {
   "cell_type": "markdown",
   "metadata": {},
   "source": [
    "#### Queue  \n",
    "一端放一端取；FIFO\n",
    "\n",
    "```python\n",
    "queue = multiprocessing.Queue() \n",
    "queue.put(i)\n",
    "queue.get(i)\n",
    "````"
   ]
  },
  {
   "cell_type": "code",
   "execution_count": null,
   "metadata": {
    "ExecuteTime": {
     "start_time": "2025-09-10T08:00:56.662644Z"
    },
    "jupyter": {
     "is_executing": true
    }
   },
   "outputs": [],
   "source": [
    "import multiprocessing\n",
    "\n",
    "def put_in_queue(data_queue):\n",
    "    for i in range(10):\n",
    "        data_queue.put(i)\n",
    "\n",
    "if __name__ == '__main__':\n",
    "    queue = multiprocessing.Queue() # 创建queue\n",
    "    \n",
    "    p = multiprocessing.Process(target=put_in_queue, args=(queue,))\n",
    "    p.start()\n",
    "    p.join()\n",
    "    \n",
    "    for _ in range(10):\n",
    "        print(queue.get())"
   ]
  },
  {
   "cell_type": "markdown",
   "metadata": {},
   "source": [
    "#### Pipe  \n",
    "![pipe通信](./images/pipe.png)"
   ]
  },
  {
   "cell_type": "code",
   "execution_count": null,
   "metadata": {},
   "outputs": [],
   "source": [
    "import multiprocessing\n",
    "import time\n",
    "\n",
    "def child_send_recv(pipe):\n",
    "    time.sleep(1)\n",
    "    \n",
    "    pipe.send([1, 2, 3])\n",
    "    data = pipe.recv()  # 子进程阻塞直到接收\n",
    "    print(\"子进程接收\" + data)\n",
    "    time.sleep(2)\n",
    "    \n",
    "if __name__ == '__main__':\n",
    "    parent_pipe, child_pipe = multiprocessing.Pipe()\n",
    "    \n",
    "    p = multiprocessing.Process(target=child_send_recv, args=(child_pipe,)) # 子进程传入child pipe\n",
    "    p.start() \n",
    "    \n",
    "    parent_recv_data = parent_pipe.recv() # 父进程阻塞直到接收\n",
    "    print(\"Parent recv\"+parent_recv_data)\n",
    "    parent_pipe.send(666)"
   ]
  },
  {
   "cell_type": "markdown",
   "metadata": {},
   "source": [
    "#### Method 1 Shared Memory 不常用"
   ]
  },
  {
   "cell_type": "code",
   "execution_count": 3,
   "metadata": {
    "ExecuteTime": {
     "end_time": "2025-09-10T07:46:55.690734Z",
     "start_time": "2025-09-10T07:46:55.496835Z"
    }
   },
   "outputs": [
    {
     "name": "stdout",
     "output_type": "stream",
     "text": [
      "[1, 2, 3, 4, 5]\n"
     ]
    }
   ],
   "source": [
    "from multiprocessing import Process, Value, Array\n",
    "\n",
    "def func(data_array):\n",
    "    data_array[0] = 666\n",
    "    \n",
    "if __name__ == '__main__':    \n",
    "    arr = Array('i', [1, 2, 3, 4, 5])  # 共享数组： 元素必须数组i：int；并且不能增加或减少\n",
    "    \n",
    "    p = Process(target=func, args=(arr,))\n",
    "    p.start()\n",
    "    p.join()\n",
    "    \n",
    "    print(arr[:])"
   ]
  },
  {
   "cell_type": "markdown",
   "metadata": {},
   "source": [
    "#### Method 2 Manager 不常用"
   ]
  },
  {
   "cell_type": "code",
   "execution_count": null,
   "metadata": {},
   "outputs": [],
   "source": [
    "from multiprocessing import Process, Manager\n",
    "\n",
    "def modify(dt, ls):\n",
    "    dt[1] = \"1\"\n",
    "    dt[2] = \"2\"\n",
    "    ls.append(\"3\")\n",
    "    \n",
    "if __name__ == '__main__':\n",
    "    with Manager() as manager:\n",
    "        \n",
    "        dct = manager.dict() # 创建共享dict和list\n",
    "        lst = manager.list()\n",
    "        \n",
    "        p = Process(target=modify, args=(dct, lst))\n",
    "        p.start()\n",
    "        p.join()\n",
    "        \n",
    "        print(lst) \n",
    "        print(dict)"
   ]
  },
  {
   "cell_type": "markdown",
   "metadata": {},
   "source": [
    "## 3. Process Lock"
   ]
  },
  {
   "cell_type": "code",
   "execution_count": null,
   "metadata": {},
   "outputs": [],
   "source": [
    "import multiprocessing\n",
    "\n",
    "lock = multiprocessing.RLock() # 进程锁\n",
    "\n",
    "p = multiprocessing.Process(target=func, args=(lock,)) # 需要把进程锁作为参数传入\n",
    "p.start()"
   ]
  },
  {
   "cell_type": "markdown",
   "metadata": {},
   "source": [
    "## 4. 进程池"
   ]
  },
  {
   "cell_type": "code",
   "execution_count": null,
   "metadata": {},
   "outputs": [],
   "source": [
    "import time\n",
    "from concurrent.futures import ThreadPoolExecutor\n",
    "\n",
    "\n",
    "def task(num):\n",
    "    print(\"执行\", num)\n",
    "    time.sleep(2)\n",
    "    return num\n",
    "\n",
    "\n",
    "def done(num):\n",
    "    print(\"done\", num.result()) # done的参数为fun的return的掩码， 用.result()获取结果\n",
    "\n",
    "\n",
    "if __name__ == '__main__':\n",
    "    pool = ThreadPoolExecutor(4)  # 创建进程池\n",
    "    for i in range(10):\n",
    "        future_1 = pool.submit(task, i)  # 提交任务\n",
    "        future_1.add_done_callback(done)  # 主进程在task 完成的那一刻自动执行 done；done的参数为fun的return的掩码\n",
    "\n",
    "    pool.shutdown(True)  # 等待所有进程结束\n",
    "    print(1)\n",
    "\n"
   ]
  },
  {
   "cell_type": "markdown",
   "metadata": {},
   "source": [
    "#### 进程池加锁需要用 multiprocessing.Manager.RLock()"
   ]
  },
  {
   "cell_type": "code",
   "execution_count": null,
   "metadata": {},
   "outputs": [],
   "source": [
    "import time\n",
    "import multiprocessing\n",
    "from concurrent.futures.process import ProcessPoolExecutor\n",
    "\n",
    "\n",
    "def task(lock):\n",
    "    print(\"开始\")\n",
    "    # lock.acquire()\n",
    "    # lock.release()\n",
    "    with lock:                     # 使用进程安全的锁\n",
    "        # 假设文件中保存的内容就是一个值：10\n",
    "        with open('f1.txt', mode='r', encoding='utf-8') as f:\n",
    "            current_num = int(f.read())\n",
    "        print(\"排队抢票了\")\n",
    "        time.sleep(1)             # 模拟抢票耗时\n",
    "        current_num -= 1\n",
    "        with open('f1.txt', mode='w', encoding='utf-8') as f:\n",
    "            f.write(str(current_num))\n",
    "\n",
    "\n",
    "if __name__ == '__main__':\n",
    "    # 进程池\n",
    "    pool = ProcessPoolExecutor()\n",
    "\n",
    "    # 不能直接使用 multiprocessing.RLock()，需要通过 Manager 创建\n",
    "    manager = multiprocessing.Manager()\n",
    "    lock_object = manager.RLock()   # 进程间共享的锁\n",
    "\n",
    "    for _ in range(10):\n",
    "        pool.submit(task, lock_object) # 传入锁\n",
    "\n",
    "    pool.shutdown(True)     # 关闭池子并等待所有任务完成\n"
   ]
  }
 ],
 "metadata": {
  "interpreter": {
   "hash": "5f7c43cab9eafdb4fd36fd9f7b529db6c2113b9f1c19db80b18390bf55d175b8"
  },
  "kernelspec": {
   "display_name": "Python 3 (ipykernel)",
   "language": "python",
   "name": "python3"
  },
  "language_info": {
   "codemirror_mode": {
    "name": "ipython",
    "version": 3
   },
   "file_extension": ".py",
   "mimetype": "text/x-python",
   "name": "python",
   "nbconvert_exporter": "python",
   "pygments_lexer": "ipython3",
   "version": "3.10.9"
  }
 },
 "nbformat": 4,
 "nbformat_minor": 2
}
