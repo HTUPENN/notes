{
 "cells": [
  {
   "cell_type": "markdown",
   "metadata": {},
   "source": [
    "##  1. 评估数据\n",
    "1. 每列是一个变量\n",
    "2. 每行是一个观察值\n",
    "3. 每个单元格是一个值    \n",
    "\n",
    "- 结构\n",
    "- 内容"
   ]
  },
  {
   "cell_type": "code",
   "execution_count": null,
   "metadata": {},
   "outputs": [],
   "source": [
    "import pandas as pd\n",
    "pd.set_option(\"display.max_columns\", 150) # 增加展示的列数\n",
    "pd.set_option(\"display.max_colwidth\", 500) # 增加单元格展示的字符数\n",
    "\n",
    "df = pd.read_csv(\"./cell_phones_survey.csv\", header=None, index_col=\"你想指定为列名的列\")\n",
    "\n",
    "# 查看数据\n",
    "df.info()\n",
    "df.head(5)\n",
    "df.tail(6)\n",
    "df.sample(6) # 随机\n",
    "\n",
    "# 丢失数据\n",
    "df['列名'].isnull() # 返回一个bool series\n",
    "df.isnull() # 返回一个bool df\n",
    "df.isnull().sum() # 返回每列 NaN 的个数\n",
    "\n",
    "df[df['列名'].isnull()] # 返回在 ‘列名’ 下有NaN的行\n",
    "\n",
    "# 重复数据\n",
    "df.duplicated() # 返回bool series，该行完全重复出现时为False\n",
    "df.duplicated(subset=[\"列名1\", \"列名2\"]) # 两列同时重复\n",
    "\n",
    "# 不一致数据\n",
    "df['列名'].value_counts() # 该列每个值的出现次数\n",
    "\n",
    "# 排序\n",
    "df['列名'].sort_values() # 排序"
   ]
  },
  {
   "cell_type": "markdown",
   "metadata": {},
   "source": [
    "## 2.1 Data Clean ：结构性清理"
   ]
  },
  {
   "cell_type": "markdown",
   "metadata": {},
   "source": [
    "### 2.1.1 清理index&columns"
   ]
  },
  {
   "cell_type": "code",
   "execution_count": null,
   "metadata": {},
   "outputs": [],
   "source": [
    "# 重命名index&columns\n",
    "df.rename(index={\"old_name1\":\"new_name1\", \"old_name2\":\"new_name2\"}, \n",
    "clolumns={\"old_name1\":\"new_name1\", \"old_name2\":\"new_name2\"}, inplace=True ) # inplace在df上修改，否则返回一个修改后的\n",
    "\n",
    "# 传入函数\n",
    "df.rename(index= str.upper, clolumns= str.upper, inplace=True ) # inplace在df上修改，否则返回一个修改后的\n",
    "# 设置index\n",
    "df.set_index()\n",
    "df.reset_index()\n",
    "\n",
    "# 按索引排序\n",
    "df = df.sort_index()"
   ]
  },
  {
   "cell_type": "markdown",
   "metadata": {},
   "source": [
    "#### 拆分合并单元格"
   ]
  },
  {
   "cell_type": "code",
   "execution_count": null,
   "metadata": {},
   "outputs": [],
   "source": [
    "# 拆分单元格\n",
    "df[[\"新列1\", \"新列2\" ]] = df[\"列名\"].str.split(\"/\", expand=True)\n",
    "df.drop(\"旧列\", axis=1)\n",
    "\n",
    "# 合并两个单元格\n",
    "df[\"列1\"].str.cat(df[\"列2\"], sep=\"-\") # 不改变原列; sep : 拼接时的分隔符"
   ]
  },
  {
   "cell_type": "markdown",
   "metadata": {},
   "source": [
    "#### 宽数据转为长数据  \n",
    "- 列名值 -> 变量值   \n",
    "<details>\n",
    "<summary>实例</summary>  \n",
    "\n",
    "![实例](./images/9.2.2.png)\n",
    "</details>"
   ]
  },
  {
   "cell_type": "code",
   "execution_count": null,
   "metadata": {},
   "outputs": [],
   "source": [
    "pd.melt(df, id_vars=['保持原样的列名1', '保持原样的列名2'], var_name='新列名', value_name = '变量值新列名')"
   ]
  },
  {
   "cell_type": "markdown",
   "metadata": {},
   "source": [
    "#### 拆分行   \n",
    "<details>\n",
    "<summary>实例</summary>    \n",
    "\n",
    "![实例2](./images/拆分行.png)  \n",
    "</details>  \n",
    "  "
   ]
  },
  {
   "cell_type": "code",
   "execution_count": null,
   "metadata": {},
   "outputs": [],
   "source": [
    "df.explode('列名')"
   ]
  },
  {
   "cell_type": "markdown",
   "metadata": {},
   "source": [
    "#### 删除行列 \n"
   ]
  },
  {
   "cell_type": "code",
   "execution_count": null,
   "metadata": {},
   "outputs": [],
   "source": [
    "df.drop([2, 4], inplace=True) # delete row\n",
    "df.drop(['列1', '列2'], axis=1) # del column"
   ]
  },
  {
   "cell_type": "markdown",
   "metadata": {},
   "source": [
    "### 2.2 Data Clean ：内容性清理"
   ]
  },
  {
   "cell_type": "code",
   "execution_count": null,
   "metadata": {},
   "outputs": [],
   "source": [
    "# 补充NaN\n",
    "df[\"列\"] = '填充内容'\n",
    "df.loc['开始行':'结束行', '开始列':'结束列']\n",
    "\n",
    "#  自动补充NaN\n",
    "df['列名'].fillna(0)\n",
    "# 传入dict按列替换\n",
    "df.fillna({'列A':0, '列B':10}) \n",
    "\n",
    "# 丢失缺失值\n",
    "df.dropna(subset=['列名'], inplace=True)\n",
    "\n",
    "# 删除重复值\n",
    "df.drop_duplicates(inplace=True, keep='last') # 删除 全部变量重复的行; 保留最后出现的值\n",
    "df.drop_duplicates(subset=['列名1','列名2']) # 删除 有两列相同的行\n",
    "\n",
    "#  替换值\n",
    "df[\"列\"].replace(['被替换词1', '被替换词2'], '替换词1', inplace=True) \n",
    "# 字典替换\n",
    "replace_dict = {'被替换词1':'替换词1', \n",
    "                '被替换词2':'替换词2'}\n",
    "df.replace(replace_dict)"
   ]
  },
  {
   "cell_type": "markdown",
   "metadata": {},
   "source": [
    "### 2.3 类型转换\n"
   ]
  },
  {
   "cell_type": "code",
   "execution_count": null,
   "metadata": {},
   "outputs": [],
   "source": [
    "series.astype(int)\n",
    "series.astype(\"category\") # pandas 自带类型"
   ]
  },
  {
   "cell_type": "markdown",
   "metadata": {},
   "source": [
    "## 3. 保存数据"
   ]
  },
  {
   "cell_type": "code",
   "execution_count": null,
   "metadata": {},
   "outputs": [],
   "source": [
    "df.to_csv(\"path/to/data.csv\", index=False) # index = false: 不保存索引\n",
    "\n",
    "# 重新读取时\n",
    "df = pd.read_csv(\"path/to/data.csv\")\n",
    "df.rename(\"Unnamed: 0\": \"新名字\", inplace=True) # 读取时，索引变成Unnamed: 0\n",
    "df.set_index(\"新名字\", inplace=True)"
   ]
  }
 ],
 "metadata": {
  "interpreter": {
   "hash": "5f7c43cab9eafdb4fd36fd9f7b529db6c2113b9f1c19db80b18390bf55d175b8"
  },
  "kernelspec": {
   "display_name": "Python 3.10.9 ('base')",
   "language": "python",
   "name": "python3"
  },
  "language_info": {
   "codemirror_mode": {
    "name": "ipython",
    "version": 3
   },
   "file_extension": ".py",
   "mimetype": "text/x-python",
   "name": "python",
   "nbconvert_exporter": "python",
   "pygments_lexer": "ipython3",
   "version": "3.10.9"
  },
  "orig_nbformat": 4
 },
 "nbformat": 4,
 "nbformat_minor": 2
}
