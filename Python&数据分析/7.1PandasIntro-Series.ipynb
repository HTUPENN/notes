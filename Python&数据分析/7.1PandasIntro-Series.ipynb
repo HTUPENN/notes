{
 "cells": [
  {
   "cell_type": "markdown",
   "metadata": {},
   "source": [
    "# Pandas  \n",
    "基于NumPy"
   ]
  },
  {
   "cell_type": "markdown",
   "metadata": {},
   "source": [
    "## 1. 基础操作  \n",
    "构造，取值，索引"
   ]
  },
  {
   "cell_type": "code",
   "execution_count": null,
   "metadata": {},
   "outputs": [],
   "source": [
    "import pandas as pd\n",
    "import numpy as np"
   ]
  },
  {
   "cell_type": "code",
   "execution_count": 2,
   "metadata": {},
   "outputs": [
    {
     "name": "stdout",
     "output_type": "stream",
     "text": [
      "[ 5 17  3 26 31] RangeIndex(start=0, stop=5, step=1)\n"
     ]
    }
   ],
   "source": [
    "s1 = pd.Series([5, 17, 3, 26, 31]) # list 构造\n",
    "dict_series = pd.Series({\"li\":82, \"zhang\":91}) #dict 构造\n",
    "print(s1.values, s1.index) # 值和索引"
   ]
  },
  {
   "cell_type": "code",
   "execution_count": null,
   "metadata": {},
   "outputs": [],
   "source": [
    "# 统计学方法\n",
    "print(s1.max() )\n",
    "print(s1.min())\n",
    "print(s1.mean())\n",
    "\n",
    "print(np.array(s1).ptp()) # 极差\n",
    "print(s1.std())\n",
    "print(s1.var())\n",
    "print(s1.mode(0.25)) # 众数\n",
    "\n",
    "print(s1.quantile(0.25)) # 四分位\n",
    "print(s1.quantile(0.75)) # 第三四分位"
   ]
  },
  {
   "cell_type": "code",
   "execution_count": 6,
   "metadata": {},
   "outputs": [
    {
     "name": "stdout",
     "output_type": "stream",
     "text": [
      "3\n",
      "\n",
      "1    17\n",
      "2     3\n",
      "dtype: int64\n"
     ]
    }
   ],
   "source": [
    "print(s1[2])\n",
    "print()\n",
    "print(s1[1:3])"
   ]
  },
  {
   "cell_type": "code",
   "execution_count": 7,
   "metadata": {},
   "outputs": [
    {
     "name": "stdout",
     "output_type": "stream",
     "text": [
      "True\n",
      "d    17\n",
      "b     3\n",
      "c    26\n",
      "dtype: int64\n",
      "a     5\n",
      "e    31\n",
      "c    26\n",
      "dtype: int64\n",
      "a     5\n",
      "e    31\n",
      "c    26\n",
      "dtype: int64\n"
     ]
    }
   ],
   "source": [
    "s2 = pd.Series([5, 17, 3, 26, 31], index=[\"a\", \"d\", \"b\", \"c\", \"e\"]) # 制定索引\n",
    "print(s2[2] == s2[\"b\"]) # 标签索引和位置索引\n",
    "print(s2[\"d\":\"c\"]) # 标签截取:包含末尾\n",
    "\n",
    "# 不连续取值\n",
    "print(s2[[\"a\", \"e\", \"c\"]])\n",
    "print(s2[[0, 4, 3]])\n",
    "\n",
    "# 当标签也为整数时：索引取值按标签；切片按照位置\n"
   ]
  },
  {
   "cell_type": "code",
   "execution_count": 8,
   "metadata": {},
   "outputs": [
    {
     "name": "stdout",
     "output_type": "stream",
     "text": [
      "1     5\n",
      "3    17\n",
      "dtype: int64\n",
      "3    17\n",
      "5     3\n",
      "dtype: int64\n"
     ]
    }
   ],
   "source": [
    "s2 = pd.Series([5, 17, 3, 26, 31], index=[1, 3, 5, 7, 9]) # 整数作标签\n",
    "s2.loc[1:3] # 标签索引\n",
    "s2.iloc[1:3] # 位置索引\n",
    "print(s2.loc[1:3])\n",
    "print(s2.iloc[1:3])"
   ]
  },
  {
   "cell_type": "code",
   "execution_count": 10,
   "metadata": {},
   "outputs": [
    {
     "name": "stdout",
     "output_type": "stream",
     "text": [
      "1     5\n",
      "3    17\n",
      "5     3\n",
      "7    26\n",
      "9    31\n",
      "dtype: int64 3    17\n",
      "7    26\n",
      "9    31\n",
      "dtype: int64\n"
     ]
    }
   ],
   "source": [
    "# bool 索引取值\n",
    "s3 = s2[(s2 > 5) | (s2 < 4)]"
   ]
  },
  {
   "cell_type": "markdown",
   "metadata": {},
   "source": [
    "### Exercise  \n",
    "基础操作"
   ]
  },
  {
   "cell_type": "code",
   "execution_count": 29,
   "metadata": {},
   "outputs": [
    {
     "name": "stdout",
     "output_type": "stream",
     "text": [
      "RangeIndex(start=0, stop=5, step=1)  [-0.12  3.7   2.5  -8.2   6.3 ]\n",
      "5    1\n",
      "4    2\n",
      "3    3\n",
      "dtype: int64\n"
     ]
    }
   ],
   "source": [
    "import pandas as pd\n",
    "s1 = pd.Series([-.12, 3.7, 2.5, -8.2, 6.3])\n",
    "print(s1.index, \" \", s1.values)\n",
    "s2 = pd.Series([1, 2, 3, 4, 5], index=[i for i in range(5, 0, -1)])\n",
    "s2.loc[5:3]"
   ]
  },
  {
   "cell_type": "code",
   "execution_count": 36,
   "metadata": {},
   "outputs": [
    {
     "name": "stdout",
     "output_type": "stream",
     "text": [
      "li    82\n",
      "dtype: int64\n"
     ]
    }
   ],
   "source": [
    "dict_series = pd.Series({\"li\":82, \"zhang\":91, \"zeng\": 78, \"deng\":68})\n",
    "dict_series.loc[\"zhang\"] = 95\n",
    "dict_series[(dict_series > 80) & (dict_series <90) ]"
   ]
  },
  {
   "cell_type": "markdown",
   "metadata": {},
   "source": [
    "## 计算操作  \n",
    "- 操作会根据索引进行自动对齐，若无则为NaN\n",
    "- broadcast"
   ]
  },
  {
   "cell_type": "code",
   "execution_count": null,
   "metadata": {},
   "outputs": [],
   "source": [
    "# max, min, sum, mean, describe\n",
    "print(s3.max() )\n",
    "print(s3.min())\n",
    "print(s3.mean())\n",
    "print()\n",
    "s3.describe()\n",
    "\n",
    "s1.add(s2, fill_value=0)# 没有则为0"
   ]
  },
  {
   "cell_type": "code",
   "execution_count": null,
   "metadata": {},
   "outputs": [],
   "source": [
    "# apply 方法 \n",
    "# new_series = old_series.apply(function1_name)\n",
    "\n",
    "dict_series = pd.Series({\"li\":82, \"zhang\":91, \"zeng\": 78, \"deng\":68})\n"
   ]
  },
  {
   "cell_type": "markdown",
   "metadata": {},
   "source": [
    "### Execise  \n"
   ]
  },
  {
   "cell_type": "code",
   "execution_count": null,
   "metadata": {},
   "outputs": [],
   "source": [
    "s1 = pd.Series([92, 67, 70, 88, 76], index=['xiaoming', 'xiaohong', 'xiaojie', 'xiaohua', 'xiaoli'])\n",
    "s2 = pd.Series([95, 85, 60, 79, 76], index=['xiaoming', 'xiaojie', 'xiaoyu', 'xiaojuan', 'xiaotong'])\n",
    "print(s1)\n",
    "print(s2)"
   ]
  },
  {
   "cell_type": "code",
   "execution_count": 53,
   "metadata": {},
   "outputs": [],
   "source": [
    "s1.add(s2, fill_value=0)\n",
    "s1.describe()\n",
    "s1 = s1 + 5"
   ]
  },
  {
   "cell_type": "code",
   "execution_count": 57,
   "metadata": {},
   "outputs": [
    {
     "data": {
      "text/plain": [
       "xiaoming    A\n",
       "xiaohong    C\n",
       "xiaojie     C\n",
       "xiaohua     A\n",
       "xiaoli      B\n",
       "dtype: object"
      ]
     },
     "execution_count": 57,
     "metadata": {},
     "output_type": "execute_result"
    }
   ],
   "source": [
    "def get_letter_grade(score):\n",
    "    if score >= 90:\n",
    "        return 'A'\n",
    "    elif score >= 80:\n",
    "        return 'B'\n",
    "    return 'C'\n",
    "\n",
    "s2 = s1.apply(get_letter_grade) # 不改变s1\n",
    "s2"
   ]
  },
  {
   "cell_type": "code",
   "execution_count": null,
   "metadata": {},
   "outputs": [],
   "source": []
  }
 ],
 "metadata": {
  "kernelspec": {
   "display_name": "base",
   "language": "python",
   "name": "python3"
  },
  "language_info": {
   "codemirror_mode": {
    "name": "ipython",
    "version": 3
   },
   "file_extension": ".py",
   "mimetype": "text/x-python",
   "name": "python",
   "nbconvert_exporter": "python",
   "pygments_lexer": "ipython3",
   "version": "3.10.9"
  },
  "orig_nbformat": 4
 },
 "nbformat": 4,
 "nbformat_minor": 2
}
