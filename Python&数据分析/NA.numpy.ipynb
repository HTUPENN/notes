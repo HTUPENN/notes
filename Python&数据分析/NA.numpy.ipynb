{
 "cells": [
  {
   "cell_type": "markdown",
   "metadata": {},
   "source": [
    "# title\n",
    "\n",
    "<details>\n",
    "<summary>插入图片</summary>  \n",
    "\n",
    "![boxplot.png](./path/to/file/boxplot.png)\n",
    "</details>\n",
    "\n",
    "| 表头1 | 表头2 | 表头3 |\n",
    "|-------|-------|-------|\n",
    "| 内容A | 内容B | 内容C |\n",
    "| 内容D | 内容E | 内容F |"
   ]
  }
 ],
 "metadata": {
  "language_info": {
   "name": "python"
  },
  "orig_nbformat": 4
 },
 "nbformat": 4,
 "nbformat_minor": 2
}
