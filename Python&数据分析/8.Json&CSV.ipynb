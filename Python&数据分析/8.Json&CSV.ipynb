{
 "cells": [
  {
   "cell_type": "markdown",
   "metadata": {},
   "source": [
    "# Jason & cvs"
   ]
  },
  {
   "cell_type": "code",
   "execution_count": 1,
   "metadata": {},
   "outputs": [],
   "source": [
    "import pandas as pd"
   ]
  },
  {
   "cell_type": "markdown",
   "metadata": {},
   "source": [
    "## 1. Json  \n",
    "- key ：immutable and unique; Value: \n",
    "- JSON 只由对象 {} 与数组 [] 以及七种原始值组成。\n",
    "- 键必须加双引号，不允许函数、Date、正则等特殊类型。\n",
    "- 嵌套（对象里套对象、数组里套数组）是常见且强大的表达方式。"
   ]
  },
  {
   "cell_type": "markdown",
   "metadata": {},
   "source": [
    "### Json对象"
   ]
  },
  {
   "cell_type": "code",
   "execution_count": null,
   "metadata": {},
   "outputs": [],
   "source": [
    "{\n",
    "  \"order_id\": \"20230915001\",\n",
    "  \"customer\": \"李四\",\n",
    "  \"items\": [\n",
    "    {\"sku\":\"A001\",\"name\":\"键盘\",\"qty\":1,\"price\":199.9},\n",
    "    {\"sku\":\"B023\",\"name\":\"鼠标\",\"qty\":2,\"price\":59.5}\n",
    "  ],\n",
    "  \"total\": 318.9,\n",
    "  \"paid\": false\n",
    "}"
   ]
  },
  {
   "cell_type": "markdown",
   "metadata": {},
   "source": [
    "### Json数组"
   ]
  },
  {
   "cell_type": "code",
   "execution_count": null,
   "metadata": {},
   "outputs": [],
   "source": [
    "[\n",
    "  \"red\",\n",
    "  \"green\",\n",
    "  \"blue\"\n",
    "]"
   ]
  },
  {
   "cell_type": "markdown",
   "metadata": {},
   "source": [
    "## 读取Json"
   ]
  },
  {
   "cell_type": "code",
   "execution_count": null,
   "metadata": {},
   "outputs": [],
   "source": [
    "import pandas as pd \n",
    "df = pd.read_json(\"./cell_phones_survey.json\")"
   ]
  },
  {
   "cell_type": "markdown",
   "metadata": {},
   "source": [
    "## 2. CSV  \n",
    "\n"
   ]
  },
  {
   "cell_type": "code",
   "execution_count": null,
   "metadata": {},
   "outputs": [],
   "source": [
    "df = pd.read_csv(\"./cell_phones_survey.csv\", header=None, index_col=\"你想指定为列名的列\")\n",
    "pd.set_option(\"display.max_columns\", 150) # 增加展示的列数\n",
    "pd.set_option(\"display.max_colwidth\", 500) # 增加单元格展示的字符数\n",
    "\n",
    "df.info() # df的信息"
   ]
  }
 ],
 "metadata": {
  "interpreter": {
   "hash": "5f7c43cab9eafdb4fd36fd9f7b529db6c2113b9f1c19db80b18390bf55d175b8"
  },
  "kernelspec": {
   "display_name": "Python 3.10.9 ('base')",
   "language": "python",
   "name": "python3"
  },
  "language_info": {
   "codemirror_mode": {
    "name": "ipython",
    "version": 3
   },
   "file_extension": ".py",
   "mimetype": "text/x-python",
   "name": "python",
   "nbconvert_exporter": "python",
   "pygments_lexer": "ipython3",
   "version": "3.10.9"
  },
  "orig_nbformat": 4
 },
 "nbformat": 4,
 "nbformat_minor": 2
}
