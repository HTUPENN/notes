{
 "cells": [
  {
   "cell_type": "markdown",
   "metadata": {},
   "source": [
    "# 统计学进阶\n",
    "\n",
    "<details>\n",
    "<summary>插入图片</summary>  \n",
    "\n",
    "![boxplot.png](./path/to/file/boxplot.png)\n",
    "</details>\n"
   ]
  },
  {
   "cell_type": "markdown",
   "metadata": {},
   "source": [
    "# 独立双样本t检验  \n",
    "\n",
    "<details>\n",
    "<summary>步骤</summary>  \n",
    "\n",
    "1. 建立假设\n",
    "2. 选择单/双尾\n",
    "3. 确定显著水平\n",
    "4. 计算t值\n",
    "5. 计算自由度\n",
    "6. 查看t值临界表\n",
    "7. 比较临界值与t值\n",
    "</details>"
   ]
  },
  {
   "cell_type": "markdown",
   "metadata": {},
   "source": [
    "### t检验\n",
    "\n",
    "前提: 随机取样; 总体呈正态分布  \n",
    "\n",
    "**Steps**\n",
    "1. 假设  \n",
    "$H_{0}$ 原假设: 地区A与地区B人平均身高没有差异  \n",
    "$H_{1}$ 备选假设: 地区A与地区B人平均身高有差异  \n",
    "1. 选择单/双尾\n",
    "2. significance level($\\alpha$) : eg 0.05, 如果拒绝 $H_{0}$, 原假设实际情况为真的概率为5%\n",
    "3. 计算t值和p值   \n",
    "t: 越大表明差异越大   \n",
    "p: $Pr \\{ \\text{观察到当前或更极端数据的概率} | H_{0} \\text{ is ture} \\}$\n",
    "1. p < $\\alpha$ : 拒绝 $H_{0}$"
   ]
  },
  {
   "cell_type": "markdown",
   "metadata": {},
   "source": [
    "<details>\n",
    "<summary>t/z检验</summary>  \n",
    "\n",
    "![boxplot.png](./images/t,z检验.jpg)\n",
    "</details>"
   ]
  },
  {
   "cell_type": "code",
   "execution_count": 2,
   "metadata": {},
   "outputs": [],
   "source": [
    "# 独立双样本t检验\n",
    "from scipy.stats import ttest_ind # t-test, independent; \n",
    "\n",
    "import pandas as pd"
   ]
  },
  {
   "cell_type": "code",
   "execution_count": 3,
   "metadata": {},
   "outputs": [],
   "source": [
    "height_df = pd.read_csv('./课件/07数据分析篇/height.csv')"
   ]
  },
  {
   "cell_type": "code",
   "execution_count": 4,
   "metadata": {},
   "outputs": [],
   "source": [
    "a_height = height_df.query('地区 == \"A\" ')['身高']\n",
    "b_height = height_df.query('地区 == \"B\" ')['身高']"
   ]
  },
  {
   "cell_type": "code",
   "execution_count": 5,
   "metadata": {},
   "outputs": [
    {
     "data": {
      "text/plain": [
       "0    165\n",
       "1    167\n",
       "2    172\n",
       "3    176\n",
       "4    178\n",
       "5    180\n",
       "6    182\n",
       "7    183\n",
       "8    185\n",
       "9    188\n",
       "Name: 身高, dtype: int64"
      ]
     },
     "execution_count": 5,
     "metadata": {},
     "output_type": "execute_result"
    }
   ],
   "source": [
    "a_height"
   ]
  },
  {
   "cell_type": "code",
   "execution_count": null,
   "metadata": {},
   "outputs": [
    {
     "name": "stdout",
     "output_type": "stream",
     "text": [
      "2.608375959216796 0.008891652984778488\n"
     ]
    }
   ],
   "source": [
    "t_stat, p_value = ttest_ind(a_height, b_height) # 返回双尾的p值, 单尾p = 双尾/2\n",
    "print(t_stat, p_value) "
   ]
  },
  {
   "cell_type": "markdown",
   "metadata": {},
   "source": [
    "p = 0.008891652984778488 < 0.05 : 拒绝$H_{0} $  \n",
    "则地区A与地区B人平均身高有差异."
   ]
  },
  {
   "cell_type": "markdown",
   "metadata": {},
   "source": []
  },
  {
   "cell_type": "markdown",
   "metadata": {},
   "source": [
    "### z 检验  \n",
    "当**整体方差已知** or **样本数量 显著>30** 选z检验  \n",
    "\n",
    "<details>\n",
    "<summary>步骤</summary>  \n",
    "\n",
    "1. 建立假设\n",
    "2. 选择单/双尾\n",
    "3. 确定显著水平\n",
    "4. 计算z值\n",
    "5. 查看z值临界表\n",
    "6. 比较临界值与z值\n",
    "</details>\n",
    "\n",
    "\n",
    "**Steps**  \n",
    "1. 假设  \n",
    "$H_{0}$ 原假设: 地区A与地区B人平均身高没有差异  \n",
    "$H_{1}$ 备选假设: 地区A与地区B人平均身高有差异  \n",
    "2. 选择单/双尾 : 单尾: 关注大小关系; 双尾: 只关注差异\n",
    "3. significance level($\\alpha$) : eg 0.05, 如果拒绝 $H_{0}$, 原假设实际情况为真的概率为5%\n",
    "4. 计算z值和p值   \n",
    "z: 越大表明差异越大   \n",
    "p: $Pr \\{ \\text{观察到当前或更极端数据的概率} | H_{0} \\text{ is ture} \\}$\n",
    "5. p < $\\alpha$ : 拒绝 $H_{0}$"
   ]
  },
  {
   "cell_type": "code",
   "execution_count": 8,
   "metadata": {},
   "outputs": [],
   "source": [
    "from statsmodels.stats.weightstats import ztest"
   ]
  },
  {
   "cell_type": "code",
   "execution_count": 10,
   "metadata": {},
   "outputs": [
    {
     "name": "stdout",
     "output_type": "stream",
     "text": [
      "2.608375959216796 0.009097297618287564\n"
     ]
    }
   ],
   "source": [
    "z_stat, p_value = ztest(a_height, b_height, alternative=\"two-sided\")\n",
    "print(z_stat, p_value)"
   ]
  },
  {
   "cell_type": "markdown",
   "metadata": {},
   "source": [
    "# 卡方检验"
   ]
  },
  {
   "cell_type": "code",
   "execution_count": 2,
   "metadata": {},
   "outputs": [],
   "source": [
    "import numpy as np\n",
    "from scipy.stats import chi2_contingency, chisquare, chi2"
   ]
  },
  {
   "cell_type": "markdown",
   "metadata": {},
   "source": [
    "## 独立性检验   \n",
    "行变量与列变量 相互独立（即两者的联合分布等于行、列边缘的乘积）\n",
    "\n"
   ]
  },
  {
   "cell_type": "markdown",
   "metadata": {},
   "source": [
    "示例 1：独立性检验（2×2 列联表）  \n",
    "假设有一份调查：性别 (Male/Female) 与是否吸烟 (Yes/No)\n",
    "\n",
    "| | 吸烟| 不吸烟 |\n",
    "|-------|-------|-------|\n",
    "| 男 | 30 | 20 |\n",
    "| 女 | 25 | 35 |"
   ]
  },
  {
   "cell_type": "code",
   "execution_count": 3,
   "metadata": {},
   "outputs": [
    {
     "name": "stdout",
     "output_type": "stream",
     "text": [
      "独立性检验\n",
      "χ² = 3.6667, df = 1, p = 0.0555\n",
      "期望频数:\n",
      " [[25. 25.]\n",
      " [30. 30.]]\n"
     ]
    }
   ],
   "source": [
    "contingency = np.array([[30, 20],   # Male: Yes, No\n",
    "                        [25, 35]])  # Female: Yes, No\n",
    "\n",
    "chi2_stat, p, dof, expected = chi2_contingency(contingency,\n",
    "                                               correction=False)   # Yates 修正可选\n",
    "print('独立性检验')\n",
    "print(f'χ² = {chi2_stat:.4f}, df = {dof}, p = {p:.4f}')\n",
    "print('期望频数:\\n', expected)\n"
   ]
  },
  {
   "cell_type": "markdown",
   "metadata": {},
   "source": [
    "significance level = 0.05  \n",
    "p = 0.016 < 0.05: 说明性别与吸烟行为在本样本中呈显著关联。"
   ]
  },
  {
   "cell_type": "markdown",
   "metadata": {},
   "source": [
    "示例 2：适合度检验（掷骰子）  \n",
    "观察到的次数（6 面骰子掷 60 次）"
   ]
  },
  {
   "cell_type": "code",
   "execution_count": 4,
   "metadata": {},
   "outputs": [
    {
     "name": "stdout",
     "output_type": "stream",
     "text": [
      "\n",
      "适合度检验\n",
      "χ² = 1.0000, df = 5, p = 0.9626\n"
     ]
    }
   ],
   "source": [
    "obs = np.array([8, 12, 9, 11, 10, 10])\n",
    "# 理论概率（均匀分布）\n",
    "exp = np.full_like(obs, fill_value=60/6)   # 每面期望 10 次\n",
    "chi2_stat, p = chisquare(f_obs=obs, f_exp=exp)\n",
    "df = len(obs) - 1\n",
    "print('\\n适合度检验')\n",
    "print(f'χ² = {chi2_stat:.4f}, df = {df}, p = {p:.4f}')"
   ]
  },
  {
   "cell_type": "markdown",
   "metadata": {},
   "source": [
    "零假设 H₀：骰子每面出现概率为 1/6（均匀分布）。  \n",
    "结论：p > 0.05，未能拒绝 H₀，表明在本次实验中没有显著证据说明骰子偏离均匀分布。"
   ]
  }
 ],
 "metadata": {
  "kernelspec": {
   "display_name": "base",
   "language": "python",
   "name": "python3"
  },
  "language_info": {
   "codemirror_mode": {
    "name": "ipython",
    "version": 3
   },
   "file_extension": ".py",
   "mimetype": "text/x-python",
   "name": "python",
   "nbconvert_exporter": "python",
   "pygments_lexer": "ipython3",
   "version": "3.10.9"
  },
  "orig_nbformat": 4
 },
 "nbformat": 4,
 "nbformat_minor": 2
}
