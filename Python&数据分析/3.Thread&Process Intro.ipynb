{
 "cells": [
  {
   "cell_type": "markdown",
   "metadata": {},
   "source": [
    "## Content\n",
    "\n"
   ]
  },
  {
   "cell_type": "markdown",
   "metadata": {},
   "source": [
    "- 计算密集型 -> 多进程\n",
    "- IO密集型（文件读写，网络传输）-> 多线程 ： 传输读写过程不消耗CPU"
   ]
  },
  {
   "cell_type": "code",
   "execution_count": null,
   "metadata": {},
   "outputs": [],
   "source": [
    "# Thread\n",
    "task = threading.Thread(target=function_name, args=(arg1, arg2) ) # 创建；参数为tuple or list\n",
    "task.start() #开始执行\n",
    "\n",
    "# Process\n",
    "multiprocessing.Process(target=function_name, args=(arg1, arg2) )  \n",
    "task.start()"
   ]
  },
  {
   "cell_type": "code",
   "execution_count": 17,
   "metadata": {},
   "outputs": [],
   "source": [
    "import time \n",
    "def copy_txt(src_txt, des_txt):\n",
    "    addr_r = \"./files/\" + src_txt\n",
    "    addr_w = \"./files/\" + des_txt\n",
    "\n",
    "    fd_r = open(addr_r, \"r\", encoding=\"utf-8\")\n",
    "    fd_w = open(addr_w, \"w\", encoding=\"utf-8\")\n",
    "\n",
    "    fd_w.write(str(fd_r.readlines()))\n"
   ]
  },
  {
   "cell_type": "code",
   "execution_count": 38,
   "metadata": {},
   "outputs": [
    {
     "name": "stdout",
     "output_type": "stream",
     "text": [
      "1.0246069431304932\n"
     ]
    }
   ],
   "source": [
    "# Single\n",
    "txt_lst = [\n",
    "    (\"read1.txt\", \"w1.txt\"),\n",
    "    (\"read2.txt\", \"w2.txt\"),\n",
    "    (\"read3.txt\", \"w3.txt\")\n",
    "]\n",
    "\n",
    "startTime = time.time()\n",
    "for src, des in txt_lst:\n",
    "    copy_txt(src, des)\n",
    "\n",
    "endTime = time.time()\n",
    "print(endTime - startTime)"
   ]
  },
  {
   "cell_type": "code",
   "execution_count": 36,
   "metadata": {},
   "outputs": [
    {
     "name": "stdout",
     "output_type": "stream",
     "text": [
      "0.0009922981262207031\n",
      "0.0009922981262207031\n",
      "0.0009922981262207031\n"
     ]
    }
   ],
   "source": [
    "# Thread\n",
    "import threading # 线程模块\n",
    "\n",
    "startTime = time.time()\n",
    "for src, des in txt_lst:\n",
    "\n",
    "    task = threading.Thread(target=copy_txt, args=(src, des) )  \n",
    "    task.start()\n",
    "\n",
    "    endTime = time.time()\n",
    "    print(endTime - startTime)"
   ]
  },
  {
   "cell_type": "code",
   "execution_count": 37,
   "metadata": {},
   "outputs": [
    {
     "name": "stdout",
     "output_type": "stream",
     "text": [
      "0.04377579689025879\n",
      "0.07866096496582031\n",
      "0.12450718879699707\n"
     ]
    }
   ],
   "source": [
    "# Process\n",
    "import multiprocessing\n",
    "\n",
    "startTime = time.time()\n",
    "for src, des in txt_lst:\n",
    "\n",
    "    task = multiprocessing.Process(target=copy_txt, args=(src, des) )  \n",
    "    task.start()\n",
    "\n",
    "    endTime = time.time()\n",
    "    print(endTime - startTime)"
   ]
  },
  {
   "cell_type": "markdown",
   "metadata": {},
   "source": [
    "## GIL(Global Interpreter Lock)  \n",
    "在任意时刻，只有 一个线程 能够获得 GIL 并执行 Python 字节码"
   ]
  }
 ],
 "metadata": {
  "interpreter": {
   "hash": "5f7c43cab9eafdb4fd36fd9f7b529db6c2113b9f1c19db80b18390bf55d175b8"
  },
  "kernelspec": {
   "display_name": "Python 3.10.9 ('base')",
   "language": "python",
   "name": "python3"
  },
  "language_info": {
   "codemirror_mode": {
    "name": "ipython",
    "version": 3
   },
   "file_extension": ".py",
   "mimetype": "text/x-python",
   "name": "python",
   "nbconvert_exporter": "python",
   "pygments_lexer": "ipython3",
   "version": "3.10.9"
  },
  "orig_nbformat": 4
 },
 "nbformat": 4,
 "nbformat_minor": 2
}
