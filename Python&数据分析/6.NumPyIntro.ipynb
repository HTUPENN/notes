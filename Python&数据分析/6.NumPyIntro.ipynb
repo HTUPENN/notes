{
 "cells": [
  {
   "cell_type": "markdown",
   "id": "3bd177ee49bc694b",
   "metadata": {},
   "source": [
    "# NumPy 入门"
   ]
  },
  {
   "cell_type": "markdown",
   "id": "a8803318438f0fbb",
   "metadata": {},
   "source": [
    "## 1. array基本属性"
   ]
  },
  {
   "cell_type": "code",
   "execution_count": 14,
   "id": "initial_id",
   "metadata": {
    "ExecuteTime": {
     "end_time": "2025-09-11T01:49:43.364730Z",
     "start_time": "2025-09-11T01:49:43.358726Z"
    },
    "collapsed": true
   },
   "outputs": [
    {
     "name": "stdout",
     "output_type": "stream",
     "text": [
      "[ 6  2 -7  2  8 -2  1]\n"
     ]
    },
    {
     "data": {
      "text/plain": [
       "array([[1, 3, 5],\n",
       "       [2, 4, 6]])"
      ]
     },
     "execution_count": 14,
     "metadata": {},
     "output_type": "execute_result"
    }
   ],
   "source": [
    "import numpy as np\n",
    "arr1 = np.array([6, 2, -7, 2, 8, -2, 1])\n",
    "arr2 = np.array([[1, 3, 5], [2, 4, 6]])\n",
    "print(arr1)\n",
    "arr2"
   ]
  },
  {
   "cell_type": "code",
   "execution_count": 10,
   "id": "1b6e567d5fefd447",
   "metadata": {
    "ExecuteTime": {
     "end_time": "2025-09-11T01:49:09.569644Z",
     "start_time": "2025-09-11T01:49:09.554021Z"
    }
   },
   "outputs": [
    {
     "name": "stdout",
     "output_type": "stream",
     "text": [
      "1 (7,) 7 int32\n",
      "2 (2, 3) 6 int32\n"
     ]
    }
   ],
   "source": [
    "print(arr1.ndim, arr1.shape, arr1.size, arr1.dtype )\n",
    "print(arr2.ndim, arr2.shape, arr2.size, arr2.dtype )"
   ]
  },
  {
   "cell_type": "code",
   "execution_count": 13,
   "id": "e74a5d8809d730c0",
   "metadata": {
    "ExecuteTime": {
     "end_time": "2025-09-11T01:49:32.715334Z",
     "start_time": "2025-09-11T01:49:32.701611Z"
    }
   },
   "outputs": [
    {
     "name": "stdout",
     "output_type": "stream",
     "text": [
      "[0. 0. 0. 0. 0. 0.] \n",
      " [1. 1. 1. 1. 1. 1.]\n"
     ]
    }
   ],
   "source": [
    "arr_all_zero = np.zeros(6)\n",
    "arr_all_one = np.ones(6) # 浮点\n",
    "print(arr_all_zero, \"\\n\", arr_all_one)"
   ]
  },
  {
   "cell_type": "code",
   "execution_count": 12,
   "id": "6c62d6e0ba17cad8",
   "metadata": {
    "ExecuteTime": {
     "end_time": "2025-09-11T01:49:09.600893Z",
     "start_time": "2025-09-11T01:49:09.585267Z"
    }
   },
   "outputs": [
    {
     "data": {
      "text/plain": [
       "array([10, 12, 14, 16, 18, 20])"
      ]
     },
     "execution_count": 12,
     "metadata": {},
     "output_type": "execute_result"
    }
   ],
   "source": [
    "arr_arange = np.arange(10, 21, 2)\n",
    "arr_arange"
   ]
  },
  {
   "cell_type": "markdown",
   "id": "db882f9975009a20",
   "metadata": {},
   "source": [
    " ## 2. Array Methods"
   ]
  },
  {
   "cell_type": "code",
   "execution_count": 20,
   "id": "d281e9ae07928b1f",
   "metadata": {
    "ExecuteTime": {
     "end_time": "2025-09-11T02:00:15.246823Z",
     "start_time": "2025-09-11T02:00:15.231197Z"
    }
   },
   "outputs": [
    {
     "data": {
      "text/plain": [
       "array([ 6.,  2., -7.,  2.,  8., -2.,  1.,  0.,  0.,  1.,  1.])"
      ]
     },
     "execution_count": 20,
     "metadata": {},
     "output_type": "execute_result"
    }
   ],
   "source": [
    "import numpy as np\n",
    "\n",
    "arr1 = np.array([6, 2, -7, 2, 8, -2, 1])\n",
    "arr2 = np.zeros(2)\n",
    "\n",
    "arr = np.concatenate([arr1, arr2]) # np.concatenate([arr1, arr2, ···])\n",
    "arr"
   ]
  },
  {
   "cell_type": "code",
   "execution_count": 19,
   "id": "5c52a2cb3332c21e",
   "metadata": {
    "ExecuteTime": {
     "end_time": "2025-09-11T01:58:55.812325Z",
     "start_time": "2025-09-11T01:58:55.795130Z"
    }
   },
   "outputs": [
    {
     "name": "stdout",
     "output_type": "stream",
     "text": [
      "[-7. -2.  0.  0.  1.  2.  2.  6.  8.]\n",
      "None\n"
     ]
    },
    {
     "data": {
      "text/plain": [
       "array([-7., -2.,  0.,  0.,  1.,  2.,  2.,  6.,  8.])"
      ]
     },
     "execution_count": 19,
     "metadata": {},
     "output_type": "execute_result"
    }
   ],
   "source": [
    "# np.sort(array)\n",
    "print(np.sort(arr)) # 排序arr并返回， 不改变arr\n",
    "# arr.sort()\n",
    "print(arr.sort()) # 不返回， arr被改变\n",
    "arr"
   ]
  },
  {
   "cell_type": "code",
   "execution_count": 21,
   "id": "d00c1c24851985d5",
   "metadata": {
    "ExecuteTime": {
     "end_time": "2025-09-11T02:04:54.572601Z",
     "start_time": "2025-09-11T02:04:54.559456Z"
    }
   },
   "outputs": [
    {
     "name": "stdout",
     "output_type": "stream",
     "text": [
      "8.0 -7.0 12.0 1.0909090909090908 3.703917961356974\n"
     ]
    }
   ],
   "source": [
    "# max, min, sum, mean,std\n",
    "print(arr.max(), arr.min(), arr.sum(), arr.mean(), arr.std() )"
   ]
  },
  {
   "cell_type": "code",
   "execution_count": 14,
   "id": "a4ab868bf2c99a9d",
   "metadata": {
    "ExecuteTime": {
     "end_time": "2025-09-11T02:21:59.962795Z",
     "start_time": "2025-09-11T02:21:59.947174Z"
    }
   },
   "outputs": [
    {
     "name": "stdout",
     "output_type": "stream",
     "text": [
      "[False False False False False False False False  True]\n",
      "[8.]\n",
      "[-7. -2.  0.  0.  6.  8.]\n"
     ]
    }
   ],
   "source": [
    "# 根据条件筛选元素\n",
    "arr = np.sort(np.array([-7., -2.,  0.,  0.,  1.,  2.,  2.,  6.,  8.]) )\n",
    "new_arr = arr > 6 # bool array\n",
    "print(new_arr)\n",
    "print(arr[arr > 6])\n",
    "print(arr[(arr < 1) | (arr > 3)]) # 必须括号\n"
   ]
  },
  {
   "cell_type": "code",
   "execution_count": 10,
   "id": "3566305b0d2ede6e",
   "metadata": {},
   "outputs": [
    {
     "name": "stdout",
     "output_type": "stream",
     "text": [
      "[2 3 4]\n",
      "[ 2.  3.  4.  5. 10.]\n"
     ]
    },
    {
     "data": {
      "text/plain": [
       "9"
      ]
     },
     "execution_count": 10,
     "metadata": {},
     "output_type": "execute_result"
    }
   ],
   "source": [
    "import numpy as np\n",
    "\n",
    "arr1 = np.array([1, 3, 2, 4, 9])\n",
    "arr2 = np.ones(5)\n",
    "arr3 = np.zeros(3)\n",
    "\n",
    "arr4 = np.concatenate([arr1, arr2, arr3]) \n",
    "arr4\n",
    "\n",
    "arr1.sort()\n",
    "arr1[-3]\n",
    "print(arr1[1:4])\n",
    "\n",
    "print(arr1 + arr2)\n",
    "arr1.max()"
   ]
  },
  {
   "cell_type": "code",
   "execution_count": null,
   "id": "a0037b7d",
   "metadata": {},
   "outputs": [],
   "source": [
    "import numpy as np\n",
    "\n",
    "# 1）从 Python 列表/元组创建\n",
    "a = np.array([1, 2, 3])                 # 1‑D 向量\n",
    "b = np.array([[1, 2], [3, 4]])          # 2‑D 矩阵\n",
    "\n",
    "# 2）等差、等距序列\n",
    "c = np.arange(0, 10, 2)                 # [0 2 4 6 8]\n",
    "d = np.linspace(0, 1, 5)                # [0.   0.25 0.5  0.75 1.  ]\n",
    "\n",
    "# 3）全 0、全 1、常数矩阵\n",
    "z = np.zeros((3, 4))                    # 3×4 全 0\n",
    "o = np.ones((2, 5))                     # 2×5 全 1\n",
    "k = np.full((2, 3), 7)                  # 填充常数 7\n",
    "\n",
    "# 4）单位矩阵、对角矩阵\n",
    "I = np.eye(4)                           # 4×4 单位矩阵\n",
    "D = np.diag([1, 2, 3])                  # 对角矩阵"
   ]
  },
  {
   "cell_type": "markdown",
   "id": "77e5da6f",
   "metadata": {},
   "source": [
    "# 常用的数组操作 与 向量化计算"
   ]
  },
  {
   "cell_type": "markdown",
   "id": "42f83f20",
   "metadata": {},
   "source": [
    "## 创建数组"
   ]
  },
  {
   "cell_type": "code",
   "execution_count": 1,
   "id": "2cc0d4cc",
   "metadata": {},
   "outputs": [],
   "source": [
    "import numpy as np\n",
    "\n",
    "# 1）从 Python 列表/元组创建\n",
    "a = np.array([1, 2, 3])                 # 1‑D 向量\n",
    "b = np.array([[1, 2], [3, 4]])          # 2‑D 矩阵\n",
    "\n",
    "# 2）等差、等距序列\n",
    "c = np.arange(0, 10, 2)                 # [0 2 4 6 8]\n",
    "d = np.linspace(0, 1, 5)                # [0.   0.25 0.5  0.75 1.  ]\n",
    "\n",
    "# 3）全 0、全 1、常数矩阵\n",
    "z = np.zeros((3, 4))                    # 3×4 全 0\n",
    "o = np.ones((2, 5))                     # 2×5 全 1\n",
    "k = np.full((2, 3), 7)                  # 填充常数 7\n",
    "\n",
    "# 4）单位矩阵、对角矩阵\n",
    "I = np.eye(4)                           # 4×4 单位矩阵\n",
    "D = np.diag([1, 2, 3])                  # 对角矩阵"
   ]
  },
  {
   "cell_type": "code",
   "execution_count": 2,
   "id": "8a685535",
   "metadata": {},
   "outputs": [
    {
     "data": {
      "text/plain": [
       "array([[1, 0, 0],\n",
       "       [0, 2, 0],\n",
       "       [0, 0, 3]])"
      ]
     },
     "execution_count": 2,
     "metadata": {},
     "output_type": "execute_result"
    }
   ],
   "source": [
    "D "
   ]
  },
  {
   "cell_type": "markdown",
   "id": "ab398291",
   "metadata": {},
   "source": [
    "## 索引、切片、布尔掩码"
   ]
  },
  {
   "cell_type": "markdown",
   "id": "7b4be4b5",
   "metadata": {},
   "source": [
    "x = np.arange(10)          # [0 1 2 3 4 5 6 7 8 9]\n",
    "\n",
    "# 1）单个元素\n",
    "x[3]            # 3\n",
    "x[-1]           # 9\n",
    "\n",
    "# 2）切片\n",
    "x[2:8]          # [2 3 4 5 6 7]\n",
    "x[:5]           # 前 5 个\n",
    "x[5:]           # 从第 6 个到结束\n",
    "x[::2]          # 步长为 2 的子序列\n",
    "\n",
    "# 3）二维切片\n",
    "M = np.arange(1, 13).reshape(3, 4)\n",
    "M[0, 2]         # 第 1 行第 3 列 → 3\n",
    "M[1:, :2]       # 取第 2、3 行的前两列\n",
    "\n",
    "# 4）布尔掩码\n",
    "mask = x > 5\n",
    "x[mask]         # [6 7 8 9]\n",
    "\n",
    "# 5）花式索引（整数数组索引）\n",
    "indices = np.array([0, 2, 4, 6])\n",
    "x[indices]      # [0 2 4 6]"
   ]
  },
  {
   "cell_type": "markdown",
   "id": "52d58d42",
   "metadata": {},
   "source": [
    "## 基本算术（逐元素"
   ]
  },
  {
   "cell_type": "code",
   "execution_count": null,
   "id": "a5278f52",
   "metadata": {},
   "outputs": [],
   "source": [
    "A = np.array([1, 2, 3])\n",
    "B = np.array([4, 5, 6])\n",
    "\n",
    "A + B            # [5 7 9]\n",
    "A - 2            # [-1  0  1]\n",
    "A * B            # [4 10 18]\n",
    "A / B            # [0.25 0.4  0.5 ]\n",
    "A ** 2           # [1 4 9]\n",
    "np.sqrt(A)       # [1.         1.41421356 1.73205081]\n",
    "np.log(A)        # [0.         0.69314718 1.09861229]"
   ]
  },
  {
   "cell_type": "markdown",
   "id": "be3f9c83",
   "metadata": {},
   "source": [
    "## 广播（Broadcasting）"
   ]
  },
  {
   "cell_type": "code",
   "execution_count": null,
   "id": "dbc1369c",
   "metadata": {},
   "outputs": [],
   "source": [
    "# 1）向量与标量\n",
    "v = np.arange(4)          # [0 1 2 3]\n",
    "v + 10                    # [10 11 12 13]\n",
    "\n",
    "# 2）不同形状的矩阵相加（自动扩展）\n",
    "col = np.arange(3).reshape(3, 1)   # 3×1 列向量\n",
    "row = np.arange(4)                 # 1×4 行向量\n",
    "C = col + row                      # 结果 3×4 矩阵\n",
    "# [[0 1 2 3]\n",
    "#  [1 2 3 4]\n",
    "#  [2 3 4 5]]"
   ]
  },
  {
   "cell_type": "markdown",
   "id": "4f4226e2",
   "metadata": {},
   "source": [
    "## 通用函数"
   ]
  },
  {
   "cell_type": "code",
   "execution_count": null,
   "id": "c2a97cbf",
   "metadata": {},
   "outputs": [],
   "source": [
    "t = np.linspace(0, 2*np.pi, 6)\n",
    "np.sin(t)            # 正弦\n",
    "np.exp(t)            # 指数\n",
    "np.abs([-3, -1, 2])  # 绝对值\n",
    "np.maximum(A, B)     # 对应元素取较大值\n",
    "np.minimum(A, B)     # 对应元素取较小值"
   ]
  },
  {
   "cell_type": "markdown",
   "id": "927e8055",
   "metadata": {},
   "source": [
    "##  归约（Reduction）操作"
   ]
  },
  {
   "cell_type": "code",
   "execution_count": null,
   "id": "dba6c965",
   "metadata": {},
   "outputs": [],
   "source": [
    "M = np.arange(1, 13).reshape(3, 4)\n",
    "\n",
    "M.sum()                 # 所有元素之和 → 78\n",
    "M.mean()                # 均值 → 6.5\n",
    "M.std(ddof=0)           # 标准差（总体） → 3.605551275\n",
    "M.var(ddof=1)           # 方差（样本） → 13.0\n",
    "\n",
    "# 按轴（axis）归约\n",
    "M.sum(axis=0)           # 按列求和 → [12 15 18 21]\n",
    "M.mean(axis=1)          # 按行求均值 → [2.5 6.5 10.5]\n",
    "M.max()                 # 最大值 → 12\n",
    "M.argmin()              # 扁平化后最小值索引 → 0\n",
    "M.argmax(axis=1)        # 每行最大值所在列索引 → [3 3 3]"
   ]
  },
  {
   "cell_type": "markdown",
   "id": "c7d853ef",
   "metadata": {},
   "source": [
    "## 线性代数(np.linalg)"
   ]
  },
  {
   "cell_type": "code",
   "execution_count": null,
   "id": "b1410b65",
   "metadata": {},
   "outputs": [],
   "source": [
    "A = np.array([[2, 1],\n",
    "              [1, 3]])\n",
    "\n",
    "# 矩阵乘法\n",
    "B = np.array([[1, 0],\n",
    "              [0, 1]])\n",
    "A @ B                     # 同 np.dot(A, B)\n",
    "\n",
    "# 转置\n",
    "A.T\n",
    "\n",
    "# 逆矩阵\n",
    "np.linalg.inv(A)\n",
    "\n",
    "# 解线性方程组 A·x = b\n",
    "b = np.array([1, 2])\n",
    "x = np.linalg.solve(A, b)\n",
    "\n",
    "# 特征值、特征向量\n",
    "w, v = np.linalg.eig(A)   # w 为特征值，v 为对应特征向量（列向量）\n",
    "\n",
    "# 奇异值分解\n",
    "U, s, VT = np.linalg.svd(A)   # s 为奇异值向量"
   ]
  },
  {
   "cell_type": "markdown",
   "id": "218ae65e",
   "metadata": {},
   "source": [
    "## 随机数(np.random)"
   ]
  },
  {
   "cell_type": "code",
   "execution_count": null,
   "id": "67188c6f",
   "metadata": {},
   "outputs": [],
   "source": [
    "# 1）均匀分布\n",
    "u = np.random.rand(3, 2)          # 形状 (3,2) 的浮点数，范围 [0,1)\n",
    "\n",
    "# 2）正态分布\n",
    "n = np.random.randn(5)            # 标准正态（均值0，方差1）\n",
    "\n",
    "# 3）整数随机抽样\n",
    "ints = np.random.randint(0, 10, size=(2, 3))   # 2×3 矩阵，取值 0~9\n",
    "\n",
    "# 4）随机排列（shuffle）\n",
    "arr = np.arange(10)\n",
    "np.random.shuffle(arr)           # 原地打乱顺序"
   ]
  },
  {
   "cell_type": "markdown",
   "id": "23ac3fd0",
   "metadata": {},
   "source": [
    "## 常用的 reshape / 转置 / 视图操作"
   ]
  },
  {
   "cell_type": "code",
   "execution_count": null,
   "id": "fcc590f8",
   "metadata": {},
   "outputs": [],
   "source": [
    "x = np.arange(12)\n",
    "\n",
    "# reshape（返回原array指针，不复制数据）\n",
    "x2 = x.reshape((3, 4))           # 3×4 矩阵\n",
    "\n",
    "# ravel（扁平化为 1‑D，返回原array指针）\n",
    "x3 = x2.ravel()                  # 与 x 本质相同\n",
    "# flatten（返回拷贝）\n",
    "x4 = x2.flatten()                # 新的 1‑D 数组\n",
    "\n",
    "# 转置\n",
    "x2.T                          "
   ]
  }
 ],
 "metadata": {
  "kernelspec": {
   "display_name": "base",
   "language": "python",
   "name": "python3"
  },
  "language_info": {
   "codemirror_mode": {
    "name": "ipython",
    "version": 3
   },
   "file_extension": ".py",
   "mimetype": "text/x-python",
   "name": "python",
   "nbconvert_exporter": "python",
   "pygments_lexer": "ipython3",
   "version": "3.10.9"
  }
 },
 "nbformat": 4,
 "nbformat_minor": 5
}
