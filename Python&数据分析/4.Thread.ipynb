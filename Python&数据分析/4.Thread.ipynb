{
 "cells": [
  {
   "cell_type": "markdown",
   "metadata": {},
   "source": [
    "```python\n",
    "task = threading.Thread(target=_func, args=(args,) )\n",
    "task.start()\n",
    "task.join()\n",
    "\n",
    "name = threading.current_thread().getName()\n",
    "task.setName(\"name\")\n",
    "```"
   ]
  },
  {
   "cell_type": "markdown",
   "metadata": {},
   "source": [
    "## 1. 线程使用"
   ]
  },
  {
   "cell_type": "code",
   "execution_count": 23,
   "metadata": {},
   "outputs": [
    {
     "name": "stdout",
     "output_type": "stream",
     "text": [
      "1000000\n"
     ]
    }
   ],
   "source": [
    "import threading\n",
    "\n",
    "loop = 1000000\n",
    "num = 0\n",
    "\n",
    "def _add(loop):\n",
    "    global num\n",
    "\n",
    "    for i in range(loop): \n",
    "        num += 1\n",
    "\n",
    "task = threading.Thread(target=_add, args=(loop,) )\n",
    "task.start() \n",
    "\n",
    "task.join() # 主线程等待子线程结束并回收\n",
    "print(num) # 主线程打印，不会等待子线程结束\n"
   ]
  },
  {
   "cell_type": "code",
   "execution_count": null,
   "metadata": {},
   "outputs": [],
   "source": [
    "# set / get name\n",
    "import threading\n",
    "\n",
    "def task():\n",
    "    name = threading.current_thread().getName()\n",
    "    print(name)\n",
    "\n",
    "for i in range(10):\n",
    "    td = threading.Thread(target=task)\n",
    "    td.setName(f\"name-{i}\") # must before start()\n",
    "    td.start()"
   ]
  },
  {
   "cell_type": "code",
   "execution_count": 53,
   "metadata": {},
   "outputs": [],
   "source": [
    "# Thread Class：另一个使用线程的方法\n",
    "class MyThread(threading.Thread):\n",
    "    def run(self):  # t.start() 后会默认执行run()\n",
    "        print(sum(self._args))  # Thread.__init__ 完成了 self._args的init\n",
    "\n",
    "all_lists=([1,2,3,4], [1,4,56,6])\n",
    "\n",
    "for lst in all_lists:\n",
    "    t = MyThread(args=lst)\n",
    "    t.start()   "
   ]
  },
  {
   "cell_type": "markdown",
   "metadata": {},
   "source": [
    "## 2. Thread Lock and Safety  \n",
    "线程安全类数据（操作时自带锁）：\n",
    "1. list： append; extend; x = L[i]; pop; L[3:5]; sort(); List1 = List2; x.filed = y  \n",
    "2. dict: D[x]=y; D1.update(D2); D.keys"
   ]
  },
  {
   "cell_type": "code",
   "execution_count": 16,
   "metadata": {},
   "outputs": [
    {
     "data": {
      "text/plain": [
       "0"
      ]
     },
     "execution_count": 16,
     "metadata": {},
     "output_type": "execute_result"
    }
   ],
   "source": [
    "import threading\n",
    "\n",
    "lock = threading.RLock()\n",
    "num = 0\n",
    "loop = 100000\n",
    "\n",
    "def add_task(count):\n",
    "    global num\n",
    "\n",
    "    lock.acquire()          # 写法1\n",
    "    for i in range(count):\n",
    "        num += 1\n",
    "    lock.release()\n",
    "\n",
    "def sub_task(count):\n",
    "    global num\n",
    "\n",
    "    with lock:             # 写法2\n",
    "        for i in range(count):\n",
    "            num -= 1\n",
    "\n",
    "\n",
    "t1 = threading.Thread(target=add_task, args=(loop,))\n",
    "t2 = threading.Thread(target=sub_task, args=(loop,))\n",
    "t1.start()\n",
    "t2.start()\n",
    "\n",
    "t1.join()\n",
    "t2.join()\n",
    "num"
   ]
  },
  {
   "cell_type": "markdown",
   "metadata": {},
   "source": [
    "## DeadLock  \n"
   ]
  },
  {
   "cell_type": "code",
   "execution_count": null,
   "metadata": {},
   "outputs": [],
   "source": [
    "# 递归锁\n",
    "lock = threading.RLock()\n",
    "\n",
    "lock.acquire() \n",
    "lock.acquire() # 连续量程获取锁不会卡住\n",
    "\n",
    "# Lock\n",
    "lock = threading.Lock()\n",
    "\n",
    "lock.acquire() \n",
    "lock.acquire() # 第二次获取，死锁在该位置\n"
   ]
  },
  {
   "cell_type": "markdown",
   "metadata": {},
   "source": [
    "## Thread Pool  \n",
    "```python\n",
    "pool = ThreadPoolExecutor(100) # 创建线程池\n",
    "pool.submit(fun, arg1, arg2) # 传入任务和参数\n",
    "pool.shutdown(True) # 等待所有任务执行完\n",
    "add_done_callback(function_name)\n",
    "```"
   ]
  },
  {
   "cell_type": "code",
   "execution_count": null,
   "metadata": {},
   "outputs": [],
   "source": [
    "from concurrent.futures import ThreadPoolExecutor\n",
    "import random\n",
    "\n",
    "pool = ThreadPoolExecutor(100) # 创建线程池\n",
    "pool.submit(fun, arg1, arg2) # 传入任务\n",
    "\n",
    "pool.shutdown(True) # 等待所有任务执行完\n",
    "\n",
    "# add_done_callback(function_name)\n",
    "future = pool.submit(fun, arg1, arg2) \n",
    "future.add_done_callback(fn) # 子线程在future 完成的那一刻自动执行 fn；fn的参数为fun的return的掩码，用\n"
   ]
  },
  {
   "cell_type": "code",
   "execution_count": null,
   "metadata": {},
   "outputs": [],
   "source": [
    "# future.result() 拿到该线程执行完后的函数\n",
    "from concurrent.futures import ThreadPoolExecutor\n",
    "import random\n",
    "\n",
    "def task():\n",
    "    return random.randint(0,10)\n",
    "\n",
    "pool = ThreadPoolExecutor(10)\n",
    "\n",
    "future_list = []\n",
    "\n",
    "for _ in range(15):\n",
    "    future = pool.submit(task)\n",
    "    future_list.append(future)\n",
    "\n",
    "pool.shutdown()\n",
    "for fu in future_list:\n",
    "    print(fu.result())"
   ]
  }
 ],
 "metadata": {
  "interpreter": {
   "hash": "5f7c43cab9eafdb4fd36fd9f7b529db6c2113b9f1c19db80b18390bf55d175b8"
  },
  "kernelspec": {
   "display_name": "Python 3.10.9 ('base')",
   "language": "python",
   "name": "python3"
  },
  "language_info": {
   "codemirror_mode": {
    "name": "ipython",
    "version": 3
   },
   "file_extension": ".py",
   "mimetype": "text/x-python",
   "name": "python",
   "nbconvert_exporter": "python",
   "pygments_lexer": "ipython3",
   "version": "3.10.9"
  },
  "orig_nbformat": 4
 },
 "nbformat": 4,
 "nbformat_minor": 2
}
