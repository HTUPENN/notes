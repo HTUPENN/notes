{
 "cells": [
  {
   "cell_type": "markdown",
   "metadata": {},
   "source": [
    "- [**常见符号公式**](https://oeis.org/wiki/List_of_LaTeX_mathematical_symbols)  \n",
    "- [**README-Format**](https://github.com/upenn-embedded/README-Format-Reference)  \n",
    "- 基本运算：  \n",
    "$ x+y $  \n",
    "$x^3$  \n",
    "$x_3$  \n",
    "$\\sqrt[3]{x+y+z} $   \n",
    "$\\frac{x+y}{x-y} $  \n"
   ]
  }
 ],
 "metadata": {
  "language_info": {
   "name": "python"
  },
  "orig_nbformat": 4
 },
 "nbformat": 4,
 "nbformat_minor": 2
}
