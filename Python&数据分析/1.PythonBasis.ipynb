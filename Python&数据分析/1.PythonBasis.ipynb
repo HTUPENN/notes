{
 "cells": [
  {
   "cell_type": "markdown",
   "metadata": {},
   "source": [
    "## Content"
   ]
  },
  {
   "cell_type": "markdown",
   "metadata": {},
   "source": [
    "Atention:   \n",
    "Inmutable Data type: str"
   ]
  },
  {
   "cell_type": "markdown",
   "metadata": {},
   "source": [
    "## 1. Dict"
   ]
  },
  {
   "cell_type": "code",
   "execution_count": 2,
   "metadata": {
    "ExecuteTime": {
     "end_time": "2025-09-09T01:40:14.415706Z",
     "start_time": "2025-09-09T01:40:14.389068Z"
    }
   },
   "outputs": [
    {
     "data": {
      "text/plain": [
       "2"
      ]
     },
     "execution_count": 2,
     "metadata": {},
     "output_type": "execute_result"
    }
   ],
   "source": [
    "# Dict\n",
    "dt = {\"key\": \"value\"} # key must be inmutable. Eg: tuple (\"Bob\", 23)\n",
    "dt[\"key2\"] = \"value2\" # add element\n",
    "len(dt)"
   ]
  },
  {
   "cell_type": "code",
   "execution_count": 4,
   "metadata": {
    "ExecuteTime": {
     "end_time": "2025-09-09T01:40:28.502758Z",
     "start_time": "2025-09-09T01:40:28.482697Z"
    }
   },
   "outputs": [
    {
     "name": "stdout",
     "output_type": "stream",
     "text": [
      "key\n",
      "key2\n"
     ]
    }
   ],
   "source": [
    "# for loop of dict\n",
    "for i in dt.keys(): # keys(), values(), items(): 返回tuple\n",
    "    print(i)"
   ]
  },
  {
   "cell_type": "markdown",
   "metadata": {},
   "source": [
    "## 2. list\n",
    "\n",
    "<details>\n",
    "  <summary> list method</summary>\n",
    "\n",
    "| 方法 | 功能 | 常用语法 | 示例 | 备注 / 常见坑 |\n",
    "|------|------|----------|------|--------------|\n",
    "| `append(x)` | 在列表末尾添加单个元素 `x` | `lst.append(item)` | `lst=[1,2]; lst.append(3)  # [1,2,3]` | O(1) 时间复杂度 |\n",
    "| `extend(iterable)` | 用可迭代对象的每个元素扩展列表 | `lst.extend(other)` | `lst=[1]; lst.extend([2,3])  # [1,2,3]` | 等价于 `lst += other`，**不要**写成 `lst.append(other)`（会把整个对象当成一个元素） |\n",
    "| `insert(i, x)` | 在索引 `i` 位置插入元素 `x`，后面的元素右移 | `lst.insert(idx, item)` | `lst=[1,3]; lst.insert(1,2)  # [1,2,3]` | 负索引同样有效；O(n) 复杂度 |\n",
    "| `remove(x)` | 删除列表中**第一个**值等于 `x` 的元素 | `lst.remove(item)` | `lst=[1,2,2,3]; lst.remove(2)  # [1,2,3]` | 若不存在抛 `ValueError` |\n",
    "| `pop([i])` | 删除并返回索引 `i` 处的元素，默认 `i=-1`（弹出末尾） | `item = lst.pop(idx)` | `lst=[1,2,3]; lst.pop()  # 返回 3，列表变为 [1,2]` | 空列表调用会抛 `IndexError` |\n",
    "| `clear()` | 删除列表中所有元素，得到空列表 | `lst.clear()` | `lst=[1,2]; lst.clear()  # []` | 等价于 `del lst[:]` |\n",
    "| `index(x, start=0, end=len(lst))` | 返回值等于 `x` 的**第一个**元素的索引，可选搜索区间 | `pos = lst.index(item, start, end)` | `lst=[1,2,3]; lst.index(2)  # 1` | 若不存在抛 `ValueError` |\n",
    "| `count(x)` | 统计列表中值等于 `x` 的元素个数 | `n = lst.count(item)` | `lst=[1,2,2,3]; lst.count(2)  # 2` | O(n) |\n",
    "| `sort(key=None, reverse=False)` | 原地排序，返回 `None` | `lst.sort(key=func, reverse=True)` | `lst=[3,1,2]; lst.sort()  # [1,2,3]` | **注意**：`list.sort()` **会修改原列表**，若需要保留原列表请使用 `sorted(lst)` |\n",
    "| `reverse()` | 原地翻转列表顺序 | `lst.reverse()` | `lst=[1,2,3]; lst.reverse()  # [3,2,1]` | 同样返回 `None`，不生成新列表 |\n",
    "| `copy()` | 返回列表的**浅拷贝**（等价于 `lst[:]`） | `new_lst = lst.copy()` | `a=[1,2]; b=a.copy(); b.append(3)  # a=[1,2], b=[1,2,3]` | 若列表内部还有可变对象，需要 `copy.deepcopy` |\n",
    "| `len(lst)` | 返回列表长度（不是方法） | `n = len(lst)` | `len([1,2,3])  # 3` |  |\n",
    "| `lst[i]` / `lst[i:j:k]` | 取元素或切片 | `item = lst[i]` | `lst=[1,2,3]; lst[0]  # 1` | 支持负索引、步长切片 |\n",
    "| `lst[i] = x` | 替换指定位置的元素 | `lst[i] = val` | `lst[1]=9  # [1,9,3]` | 同样支持切片赋值 `lst[1:3]=[8,8]` |\n",
    "| `del lst[i]` | 删除指定位置或切片 | `del lst[i]` | `del lst[0]  # 删除首元素` |  |\n",
    "| `x in lst` | 判断元素是否在列表中 | `x in lst` | `2 in [1,2,3]  # True` | O(n) 线性搜索 |\n",
    "| `for x in lst:` | 迭代列表 | `for v in lst: ...` | `for v in [1,2]: print(v)` |  |\n",
    "| `list(iterable)` | 将可迭代对象转换为列表 | `lst = list(some_iterable)` | `list('abc')  # ['a','b','c']` |  |"
   ]
  },
  {
   "cell_type": "code",
   "execution_count": 5,
   "metadata": {
    "ExecuteTime": {
     "end_time": "2025-09-09T01:40:46.596514Z",
     "start_time": "2025-09-09T01:40:46.575340Z"
    }
   },
   "outputs": [],
   "source": [
    "# 列表推导式\n",
    "evens_sq = [x**2 for x in range(1, 11) if x % 2 ==0]\n",
    "\n",
    "# slip: lst[start: end : step_size]\n",
    "lst = list(range(10)) # <=> [i for i in range(10)]\n",
    "reversed_lst = lst[::-1]\n",
    "step2 = lst[::2]\n",
    "first5 = lst[:5]\n",
    "\n",
    "# 拓展\n",
    "a = list(range(2))\n",
    "b = list(range(3))\n",
    "a.extend(b) # <=> a += b\n",
    "zero_lst = [0] * 10 # [0,0,0,0,0,0,0,0,0,0], 如果列表内部的元素是可变对象，[obj] * n 会创建 n 个对同一对象的引用，修改其中一个会影响全部。\n"
   ]
  },
  {
   "cell_type": "markdown",
   "metadata": {},
   "source": [
    "## 3. OOP: Class"
   ]
  },
  {
   "cell_type": "code",
   "execution_count": 25,
   "metadata": {},
   "outputs": [],
   "source": [
    "class Student: # camelcase\n",
    "    def __init__(self, name, ID):\n",
    "        self.name = name\n",
    "        self.ID = ID\n",
    "        self.grades = {\"语文\": 0, \"数学\": 0, \"英语\": 0}\n",
    "\n",
    "    \n",
    "# setter and getter\n",
    "    def set_grade(self, course, grade):\n",
    "        if course in self.grades.keys():\n",
    "            self.grades[course] = grade\n",
    "\n",
    "# 类继承\n",
    "class Mammal:\n",
    "    def __init__(self, name, sex):\n",
    "        self.name = name\n",
    "        self.sex = sex \n",
    "        self.num_eyes = 2\n",
    "\n",
    "    def breathe(self):\n",
    "        print(self.name + \"is breathing\")\n",
    "    \n",
    "class Human(Mammal):\n",
    "    def __init__(self, name, sex):\n",
    "        super().__init__(name, sex) #super()\n",
    "        self.has_tail = False\n",
    "\n",
    "    def read(self):\n",
    "        print(\"Be reading\")\n"
   ]
  },
  {
   "cell_type": "markdown",
   "metadata": {},
   "source": [
    "## 4. IO"
   ]
  },
  {
   "cell_type": "code",
   "execution_count": null,
   "metadata": {},
   "outputs": [],
   "source": [
    "# read method1 \n",
    "fd = open(\"./files/test.txt\", \"r\", encoding=\"utf-8\")\n",
    "content = fd.read()  # read all\n",
    "\n",
    "# method2 \n",
    "with open(\"./files/test.txt\", \"r\", encoding=\"utf-8\") as fd:\n",
    "    print(fd.readline())\n",
    "    print(fd.readlines()) # return list"
   ]
  },
  {
   "cell_type": "code",
   "execution_count": 7,
   "metadata": {},
   "outputs": [
    {
     "name": "stdout",
     "output_type": "stream",
     "text": [
      "HelloHelloss\n"
     ]
    }
   ],
   "source": [
    "with open(\"./files/write.txt\", \"r+\", encoding=\"utf-8\") as fd: # w: 存在则覆盖，不存在则创建\n",
    "    print(fd.read())\n",
    "    fd.write(\"s\")                                        # a: append\n",
    "    fd.write(\"s\")                                        # r+:同时读写, write()时在后面追加"
   ]
  },
  {
   "cell_type": "markdown",
   "metadata": {},
   "source": [
    "## 5. Error Handle"
   ]
  },
  {
   "cell_type": "code",
   "execution_count": 8,
   "metadata": {},
   "outputs": [
    {
     "name": "stdout",
     "output_type": "stream",
     "text": [
      "1.0\n"
     ]
    }
   ],
   "source": [
    "try:\n",
    "    user_weight = float(input(\"weight\"))\n",
    "    user_height = float(input(\"height\"))\n",
    "    user_BMI = user_weight / user_height**2\n",
    "except ValueError: #casting failure\n",
    "    print(\"ValueError\")\n",
    "except ZeroDivisionError: # divider = 0\n",
    "    print(\"ZeroDivisionError\")\n",
    "except: #except all error\n",
    "    print(\"all error\")\n",
    "else: #try 无错误时\n",
    "    print(user_BMI)\n",
    "finally: #always execute\n",
    "    print(\"end\")"
   ]
  },
  {
   "cell_type": "markdown",
   "metadata": {},
   "source": [
    "## 6. unittest  \n",
    "**Exercise refer to `./tests/test_my_adder` and `./tests/test_shopping_list`**"
   ]
  },
  {
   "metadata": {},
   "cell_type": "code",
   "outputs": [],
   "execution_count": null,
   "source": [
    "# Method\n",
    "assertEquals(A, B)  # assert A == B\n",
    "assertNotEquals(A, B) \n",
    "\n",
    "assertTrue(A) # assert A is True\n",
    "\n",
    "assertIn(A, B) # assert A in B\n",
    "assertNotIn(A, B)"
   ]
  },
  {
   "metadata": {},
   "cell_type": "markdown",
   "source": "**Exercise refer to ./tests/test_my_adder and ./tests/test_shopping_list**"
  },
  {
   "metadata": {},
   "cell_type": "markdown",
   "source": [
    "## 7. 高级函数： 函数名作为参数传入\n",
    "## 匿名函数 lambda"
   ]
  },
  {
   "metadata": {
    "ExecuteTime": {
     "end_time": "2025-09-09T03:41:52.196425Z",
     "start_time": "2025-09-09T03:41:52.180797Z"
    }
   },
   "cell_type": "code",
   "source": [
    "# 高阶函数\n",
    "def adder(par1 , par2):\n",
    "    return par1 + par2\n",
    "\n",
    "def calculate_and_print(par1, part2, function1):\n",
    "    result = function1(par1, part2)\n",
    "    print(result)\n",
    "\n",
    "# 匿名函数\n",
    "# lambda 传入变量  ：  return\n",
    "lambda num1, num2: num1 + num2\n",
    "\n",
    "(lambda num1, num2: num1 + num2)(2, 3)\n",
    "\n",
    "calculate_and_print(1, 2, lambda num1, num2: num1 + num2) # 传入匿名函数作为参数"
   ],
   "outputs": [
    {
     "name": "stdout",
     "output_type": "stream",
     "text": [
      "3\n"
     ]
    }
   ],
   "execution_count": 3
  },
  {
   "metadata": {},
   "cell_type": "markdown",
   "source": ""
  }
 ],
 "metadata": {
  "interpreter": {
   "hash": "5f7c43cab9eafdb4fd36fd9f7b529db6c2113b9f1c19db80b18390bf55d175b8"
  },
  "kernelspec": {
   "display_name": "Python 3.10.9 ('base')",
   "language": "python",
   "name": "python3"
  },
  "language_info": {
   "codemirror_mode": {
    "name": "ipython",
    "version": 3
   },
   "file_extension": ".py",
   "mimetype": "text/x-python",
   "name": "python",
   "nbconvert_exporter": "python",
   "pygments_lexer": "ipython3",
   "version": "3.10.9"
  },
  "orig_nbformat": 4
 },
 "nbformat": 4,
 "nbformat_minor": 2
}
